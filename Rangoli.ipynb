{
 "cells": [
  {
   "cell_type": "markdown",
   "metadata": {},
   "source": [
    "# Bhavishi Bansal"
   ]
  },
  {
   "cell_type": "code",
   "execution_count": null,
   "metadata": {},
   "outputs": [],
   "source": [
    "import turtle                               #importing turtle library\n",
    "t=turtle.Turtle()\n",
    "r=turtle.Screen()\n",
    "r.bgcolor(\"light gray\")                     #setting backgroung color\n",
    "r.title(\"Code A Rangoli \")                  #for displaying title for graphics by default it is-Python Turtle Graphics\n",
    "t.pensize(3)                              #setting the pointer size\n",
    "t.pencolor('coral')                       #setting rangoli colour,we can also use multiple color \n",
    "t.speed(0)                                #speed at which pointer will draw the graphics\n",
    "\n",
    "def Rangolicircle(radius):                  #defining the function for the graphics\n",
    "    for i in range(10):\n",
    "        t.circle(radius)\n",
    "        radius=radius-5\n",
    "\n",
    "def Rangolidesign():                        #defining another function in which Rangolicircle function will work\n",
    "    for i in range(10):\n",
    "        Rangolicircle(120)\n",
    "        t.right(36)\n",
    "        \n",
    "Rangolidesign()                             #calling Rangolidesign function\n",
    "turtle.done()                               #end of graphic code"
   ]
  },
  {
   "cell_type": "code",
   "execution_count": null,
   "metadata": {},
   "outputs": [],
   "source": []
  }
 ],
 "metadata": {
  "kernelspec": {
   "display_name": "Python 3",
   "language": "python",
   "name": "python3"
  },
  "language_info": {
   "codemirror_mode": {
    "name": "ipython",
    "version": 3
   },
   "file_extension": ".py",
   "mimetype": "text/x-python",
   "name": "python",
   "nbconvert_exporter": "python",
   "pygments_lexer": "ipython3",
   "version": "3.8.3"
  }
 },
 "nbformat": 4,
 "nbformat_minor": 4
}
